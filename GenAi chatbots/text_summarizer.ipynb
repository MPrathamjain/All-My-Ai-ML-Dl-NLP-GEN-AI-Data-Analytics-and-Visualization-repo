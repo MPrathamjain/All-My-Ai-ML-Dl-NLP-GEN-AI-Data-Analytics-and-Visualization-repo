{
  "nbformat": 4,
  "nbformat_minor": 0,
  "metadata": {
    "colab": {
      "provenance": []
    },
    "kernelspec": {
      "name": "python3",
      "display_name": "Python 3"
    },
    "language_info": {
      "name": "python"
    }
  },
  "cells": [
    {
      "cell_type": "code",
      "execution_count": null,
      "metadata": {
        "id": "Y5KVI_wrjJL-"
      },
      "outputs": [],
      "source": [
        "!pip install openai\n",
        "\n",
        "import openai\n",
        "openai.api_key = \"your-api-key-here\"  # Replace with your actual OpenAI API key\n",
        "\n",
        "def summarize_text(text):\n",
        "    prompt = f\"Summarize the following text in 3-5 sentences:\\n\\n{text}\"\n",
        "    response = openai.Completion.create(\n",
        "        engine=\"text-davinci-003\",\n",
        "        prompt=prompt,\n",
        "        max_tokens=150\n",
        "    )\n",
        "    return response.choices[0].text.strip()\n",
        "\n",
        "user_text = input(\"Enter the text to summarize:\\n\")\n",
        "summary = summarize_text(user_text)\n",
        "print(\"\\n📝 Summary:\\n\", summary)"
      ]
    }
  ]
}