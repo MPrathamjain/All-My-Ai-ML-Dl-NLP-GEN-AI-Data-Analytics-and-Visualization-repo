{
  "nbformat": 4,
  "nbformat_minor": 0,
  "metadata": {
    "colab": {
      "provenance": []
    },
    "kernelspec": {
      "name": "python3",
      "display_name": "Python 3"
    },
    "language_info": {
      "name": "python"
    }
  },
  "cells": [
    {
      "cell_type": "code",
      "execution_count": null,
      "metadata": {
        "id": "Y5KVI_wrjJL-"
      },
      "outputs": [],
      "source": [
        "!pip install openai\n",
        "\n",
        "import openai\n",
        "openai.api_key = \"your-api-key-here\"  # Replace with your actual OpenAI API key\n",
        "\n",
        "def generate_quiz(topic):\n",
        "    prompt = f\"Create 3 multiple-choice questions about {topic}. Each question should have 4 options and indicate the correct answer.\"\n",
        "    response = openai.Completion.create(\n",
        "        engine=\"text-davinci-003\",\n",
        "        prompt=prompt,\n",
        "        max_tokens=300\n",
        "    )\n",
        "    return response.choices[0].text.strip()\n",
        "\n",
        "topic = input(\"Enter a topic for the quiz:\\n\")\n",
        "quiz = generate_quiz(topic)\n",
        "print(\"\\n🧠 Quiz:\\n\", quiz)"
      ]
    }
  ]
}