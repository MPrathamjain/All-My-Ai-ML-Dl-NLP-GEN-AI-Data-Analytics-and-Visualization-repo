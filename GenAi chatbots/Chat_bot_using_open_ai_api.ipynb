{
  "nbformat": 4,
  "nbformat_minor": 0,
  "metadata": {
    "colab": {
      "provenance": []
    },
    "kernelspec": {
      "name": "python3",
      "display_name": "Python 3"
    },
    "language_info": {
      "name": "python"
    }
  },
  "cells": [
    {
      "cell_type": "code",
      "execution_count": null,
      "metadata": {
        "id": "Y5KVI_wrjJL-"
      },
      "outputs": [],
      "source": [
        "!pip install openai\n",
        "\n",
        "import openai\n",
        "\n",
        "openai.api_key = \"api key\"\n",
        "\n",
        "def chat_with_openai(messages, model=\"gpt-3.5-turbo\"):\n",
        "    response = openai.ChatCompletion.create(\n",
        "        model=model,\n",
        "        messages=messages\n",
        "    )\n",
        "    return response['choices'][0]['message']['content']\n",
        "\n",
        "conversation = [\n",
        "    {\"role\": \"system\", \"content\": \"You are a helpful assistant.\"}\n",
        "]\n",
        "\n",
        "print(\"Type 'exit' to end the chat.\\n\")\n",
        "\n",
        "while True:\n",
        "    user_input = input(\"You: \")\n",
        "    if user_input.lower() in [\"exit\", \"quit\"]:\n",
        "        print(\"Chat ended.\")\n",
        "        break\n",
        "\n",
        "    conversation.append({\"role\": \"user\", \"content\": user_input})\n",
        "    reply = chat_with_openai(conversation)\n",
        "    print(\"Bot:\", reply)\n",
        "    conversation.append({\"role\": \"assistant\", \"content\": reply})"
      ]
    }
  ]
}