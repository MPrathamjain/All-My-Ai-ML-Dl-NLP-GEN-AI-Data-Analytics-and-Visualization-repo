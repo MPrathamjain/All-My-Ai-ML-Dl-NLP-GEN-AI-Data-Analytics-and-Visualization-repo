{
  "nbformat": 4,
  "nbformat_minor": 0,
  "metadata": {
    "colab": {
      "provenance": []
    },
    "kernelspec": {
      "name": "python3",
      "display_name": "Python 3"
    },
    "language_info": {
      "name": "python"
    }
  },
  "cells": [
    {
      "cell_type": "code",
      "execution_count": null,
      "metadata": {
        "id": "Y5KVI_wrjJL-"
      },
      "outputs": [],
      "source": [
        "import openai\n",
        "openai.api_key = \"your-api-key\"\n",
        "\n",
        "response = openai.Image.create(\n",
        "    prompt=\"A futuristic city floating in the clouds\",\n",
        "    n=1,\n",
        "    size=\"512x512\"\n",
        ")\n",
        "\n",
        "image_url = response['data'][0]['url']\n",
        "print(\"Image URL:\", image_url)"
      ]
    }
  ]
}